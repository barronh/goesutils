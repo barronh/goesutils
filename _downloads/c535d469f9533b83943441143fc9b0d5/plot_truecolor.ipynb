{
  "cells": [
    {
      "cell_type": "markdown",
      "metadata": {},
      "source": [
        "\n# Plot Truecolor Approximation\n\nDownload one ABI-L2-MCMIPC file from GOES-16 and plot a true color image.\n"
      ]
    },
    {
      "cell_type": "code",
      "execution_count": null,
      "metadata": {
        "collapsed": false
      },
      "outputs": [],
      "source": [
        "import matplotlib.pyplot as plt\nimport goesutils\nfrom goesutils.style import cmi2geocolor\nfrom goesutils.proj import getproj\nimport pandas as pd\nimport xarray as xr\nimport pycno"
      ]
    },
    {
      "cell_type": "markdown",
      "metadata": {},
      "source": [
        "## Prepare a base api object\n\n"
      ]
    },
    {
      "cell_type": "code",
      "execution_count": null,
      "metadata": {
        "collapsed": false
      },
      "outputs": [],
      "source": [
        "nav = goesutils.NOAAs3('noaa-goes16')\n# Usually, you would process multiple hours, but here just one\ndates = pd.date_range('2023-09-21 20', '2023-09-21 20', freq='h')\nremotekeys = nav.findfiles(short_name='ABI-L2-MCMIPC', dates=dates)\n# Download only the first file\nlocalpaths = nav.getfiles(remotekeys[:1])"
      ]
    },
    {
      "cell_type": "markdown",
      "metadata": {},
      "source": [
        "## Open file and covert to RGB\n\n"
      ]
    },
    {
      "cell_type": "code",
      "execution_count": null,
      "metadata": {
        "collapsed": false
      },
      "outputs": [],
      "source": [
        "ds = xr.open_dataset(localpaths[0])\n# Convert to RGB\nrgb = cmi2geocolor(ds)"
      ]
    },
    {
      "cell_type": "markdown",
      "metadata": {},
      "source": [
        "## Define geography objects\n\n"
      ]
    },
    {
      "cell_type": "code",
      "execution_count": null,
      "metadata": {
        "collapsed": false
      },
      "outputs": [],
      "source": [
        "proj = getproj(ds)\ncno = pycno.cno(proj=proj)\n\n# calculate the corners of the whole dataset\n# use pixel width to extend centroids to corners\nhdx = (ds.x[-1] - ds.x[0]) / (ds.x.size - 1) / 2\nhdy = (ds.y[-1] - ds.y[0]) / (ds.y.size - 1) / 2\nextent = [ds.x[0] - hdx, ds.x[-1] + hdx, ds.y[-1] + hdy, ds.y[0] - hdy]"
      ]
    },
    {
      "cell_type": "markdown",
      "metadata": {},
      "source": [
        "## Make a plot with state overlay\n\n"
      ]
    },
    {
      "cell_type": "code",
      "execution_count": null,
      "metadata": {
        "collapsed": false
      },
      "outputs": [],
      "source": [
        "# Make a plot using standard matplotlib functions\nfig, ax = plt.subplots()\np = ax.imshow(rgb[::-1], extent=extent, origin='lower')\nax.set(xticks=[], yticks=[])\n# Defining the extent allows you to plot other geographic information on top\ncno.drawstates(ax=ax, color='white')\n\n# Show the figure\nplt.show()\n# Or save the figure\nfig.savefig('color.png')"
      ]
    }
  ],
  "metadata": {
    "kernelspec": {
      "display_name": "Python 3",
      "language": "python",
      "name": "python3"
    },
    "language_info": {
      "codemirror_mode": {
        "name": "ipython",
        "version": 3
      },
      "file_extension": ".py",
      "mimetype": "text/x-python",
      "name": "python",
      "nbconvert_exporter": "python",
      "pygments_lexer": "ipython3",
      "version": "3.12.3"
    }
  },
  "nbformat": 4,
  "nbformat_minor": 0
}