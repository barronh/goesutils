{
  "cells": [
    {
      "cell_type": "markdown",
      "metadata": {},
      "source": [
        "\n# Find and Retrieve Files\n\nFind ABI-L2-MCMIPC files from GOES-16.\n"
      ]
    },
    {
      "cell_type": "code",
      "execution_count": null,
      "metadata": {
        "collapsed": false
      },
      "outputs": [],
      "source": [
        "import pandas as pd\nimport goesutils\n\nnav = goesutils.NOAAs3('noaa-goes16')\n\n# Define a date range of interest\ndates = pd.date_range('2023-09-21 20', '2023-09-21 23', freq='h')\n\ndatakey = 'ABI-L2-MCMIPC'\nkeys = nav.findfiles(short_name=datakey, dates=dates)\nprint(len(keys), keys[0], '...')\n# 48 ABI-L2-MCMIPC/2023/264/20/OR_ABI-L2-MCMIPC-M6_G16_s20232642001172_e20232642003545_c20232642004068.nc ...\n\n# Query and Download\n# paths = nav.getfiles(short_name=datakey, dates=dates)\n# Or download one or more from previous query\npaths = nav.getfiles(keys[:2])\n# reports as each is downloaded\n# ABI-L2-MCMIPC/2023/264/20/OR_ABI-L2-MCMIPC-M6_G16_s20232642001172_e20232642003545_c20232642004068.nc\n# ABI-L2-MCMIPC/2023/264/20/OR_ABI-L2-MCMIPC-M6_G16_s20232642006172_e20232642008557_c20232642009058.nc\n\nprint(len(paths), paths[0])\n# 2 ./s3.noaa-goes16/ABI-L2-MCMIPC/2023/264/20/OR_ABI-L2-MCMIPC-M6_G16_s20232642001172_e20232642003545_c20232642004068.nc"
      ]
    }
  ],
  "metadata": {
    "kernelspec": {
      "display_name": "Python 3",
      "language": "python",
      "name": "python3"
    },
    "language_info": {
      "codemirror_mode": {
        "name": "ipython",
        "version": 3
      },
      "file_extension": ".py",
      "mimetype": "text/x-python",
      "name": "python",
      "nbconvert_exporter": "python",
      "pygments_lexer": "ipython3",
      "version": "3.12.3"
    }
  },
  "nbformat": 4,
  "nbformat_minor": 0
}