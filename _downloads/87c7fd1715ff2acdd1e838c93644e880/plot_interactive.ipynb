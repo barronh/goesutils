{
  "cells": [
    {
      "cell_type": "markdown",
      "metadata": {},
      "source": [
        "\n# Find and Retrieve Files w/ GUI\n\nFind ABI-L2-MCMIPC files from GOES-16.\n"
      ]
    },
    {
      "cell_type": "code",
      "execution_count": null,
      "metadata": {
        "collapsed": false
      },
      "outputs": [],
      "source": [
        "import pandas as pd\nimport xarray as xr\nimport goesutils"
      ]
    },
    {
      "cell_type": "markdown",
      "metadata": {},
      "source": [
        "## Navigator has a Interactive Form\n\n* form defaults to ABI-L2-AOD a week ago at 0Z\n* change anything you want\n* product definitions: https://docs.opendata.aws/noaa-goes16/cics-readme.html\n\n"
      ]
    },
    {
      "cell_type": "code",
      "execution_count": null,
      "metadata": {
        "collapsed": false
      },
      "outputs": [],
      "source": [
        "nav = goesutils.NOAAs3('noaa-goes16')\nnav.form"
      ]
    },
    {
      "cell_type": "markdown",
      "metadata": {},
      "source": [
        "## Navigator form interaction utilities\n\n* findfiles_from_form adn getfiles_from_form\n* for more information, see documentation.\n\n"
      ]
    },
    {
      "cell_type": "code",
      "execution_count": null,
      "metadata": {
        "collapsed": false
      },
      "outputs": [],
      "source": [
        "remotepaths = nav.findfiles_from_form()\nprint(len(remotepaths), 'files eg,', remotepaths[0])\n# 12 files eg, ABI-L2-AODC/2024/110/00/OR_ABI-L2-AODC-M6_G16_s20241100001171_e20241100003544_c20241100006242.nc\n\n# Use get to download them instead\n# localpaths = s3.getfiles_from_form()\n# or use getfiles\nlocalpaths = nav.getfiles(remotepaths[:1])"
      ]
    },
    {
      "cell_type": "markdown",
      "metadata": {},
      "source": [
        "## Plot with helper utilities\n\n* findfiles_from_form adn getfiles_from_form\n* for more information, see documentation.\n\n"
      ]
    },
    {
      "cell_type": "code",
      "execution_count": null,
      "metadata": {
        "collapsed": false
      },
      "outputs": [],
      "source": [
        "from goesutils.proj import getproj\nimport pycno\n\naodds = xr.open_dataset(localpaths[0])\nproj = getproj(aodds)\ncno = pycno.cno(proj=proj)\nqm = aodds['AOD'].where(aodds['DQF'] >= 1).plot(vmin=0)\ncno.drawstates(ax=qm.axes)\nqm.figure.savefig('aod.png')"
      ]
    }
  ],
  "metadata": {
    "kernelspec": {
      "display_name": "Python 3",
      "language": "python",
      "name": "python3"
    },
    "language_info": {
      "codemirror_mode": {
        "name": "ipython",
        "version": 3
      },
      "file_extension": ".py",
      "mimetype": "text/x-python",
      "name": "python",
      "nbconvert_exporter": "python",
      "pygments_lexer": "ipython3",
      "version": "3.12.3"
    }
  },
  "nbformat": 4,
  "nbformat_minor": 0
}